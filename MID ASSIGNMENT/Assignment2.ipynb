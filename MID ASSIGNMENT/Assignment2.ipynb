{
  "nbformat": 4,
  "nbformat_minor": 0,
  "metadata": {
    "colab": {
      "provenance": []
    },
    "kernelspec": {
      "name": "python3",
      "display_name": "Python 3"
    },
    "language_info": {
      "name": "python"
    }
  },
  "cells": [
    {
      "cell_type": "code",
      "execution_count": 7,
      "metadata": {
        "id": "1KLzRTVUGvWj"
      },
      "outputs": [],
      "source": [
        "import numpy as np\n",
        "import matplotlib.pyplot as plt\n",
        "from sklearn.datasets import make_classification\n",
        "from sklearn.model_selection import train_test_split\n",
        "from sklearn.metrics import confusion_matrix, ConfusionMatrixDisplay\n"
      ]
    },
    {
      "cell_type": "code",
      "source": [
        "np.random.seed(123)\n",
        "\n",
        "# Generate synthetic dataset\n",
        "features, targets = make_classification(\n",
        "    n_samples=1200,\n",
        "    n_features=25,\n",
        "    n_classes=5,\n",
        "    n_clusters_per_class=1,\n",
        "    n_informative=20,\n",
        "    random_state=123\n",
        ")\n",
        "\n",
        "# Split dataset into training and testing sets\n",
        "X_train, X_test, Y_train, Y_test = train_test_split(features, targets, test_size=0.25, random_state=123)"
      ],
      "metadata": {
        "id": "eveX_VY_HLqR"
      },
      "execution_count": 11,
      "outputs": []
    },
    {
      "cell_type": "code",
      "source": [
        "def encode_one_hot(labels, num_classes):\n",
        "    return np.eye(num_classes)[labels]\n",
        "\n",
        "Y_train_encoded = encode_one_hot(Y_train, num_classes=5)\n",
        "Y_test_encoded = encode_one_hot(Y_test, num_classes=5)\n"
      ],
      "metadata": {
        "id": "6MpH4033JAyM"
      },
      "execution_count": 12,
      "outputs": []
    },
    {
      "cell_type": "code",
      "source": [
        "def sigmoid(x, derivative=False):\n",
        "    if derivative:\n",
        "        return x * (1 - x)\n",
        "    return 1 / (1 + np.exp(-x))"
      ],
      "metadata": {
        "id": "Z9hJJVriJCh0"
      },
      "execution_count": 14,
      "outputs": []
    },
    {
      "cell_type": "code",
      "source": [
        "def softmax(x):\n",
        "    exp_vals = np.exp(x - np.max(x, axis=1, keepdims=True))\n",
        "    return exp_vals / np.sum(exp_vals, axis=1, keepdims=True)"
      ],
      "metadata": {
        "id": "5qbseXUoJIpy"
      },
      "execution_count": 15,
      "outputs": []
    },
    {
      "cell_type": "code",
      "source": [
        "class SimpleNN:\n",
        "    def __init__(self):\n",
        "        self.input_size = 25\n",
        "        self.hidden_1_size = 40\n",
        "        self.hidden_2_size = 20\n",
        "        self.hidden_3_size = 10\n",
        "        self.output_size = 5\n",
        "        self.lr = 0.005\n",
        "\n",
        "        # Initialize weights\n",
        "        self.W1 = np.random.randn(self.input_size, self.hidden_1_size) * 0.01\n",
        "        self.W2 = np.random.randn(self.hidden_1_size, self.hidden_2_size) * 0.01\n",
        "        self.W3 = np.random.randn(self.hidden_2_size, self.hidden_3_size) * 0.01\n",
        "        self.W4 = np.random.randn(self.hidden_3_size, self.output_size) * 0.01\n",
        "\n",
        "    def forward(self, inputs):\n",
        "        self.Z1 = np.dot(inputs, self.W1)\n",
        "        self.A1 = sigmoid(self.Z1)\n",
        "\n",
        "        self.Z2 = np.dot(self.A1, self.W2)\n",
        "        self.A2 = sigmoid(self.Z2)\n",
        "\n",
        "        self.Z3 = np.dot(self.A2, self.W3)\n",
        "        self.A3 = sigmoid(self.Z3)\n",
        "\n",
        "        self.Z4 = np.dot(self.A3, self.W4)\n",
        "        self.outputs = softmax(self.Z4)\n",
        "\n",
        "        return self.outputs\n",
        "\n",
        "    def backward(self, inputs, targets, predictions):\n",
        "        error = predictions - targets\n",
        "\n",
        "        dW4 = np.dot(self.A3.T, error)\n",
        "        dW3 = np.dot(self.A2.T, np.dot(error, self.W4.T) * sigmoid(self.A3, derivative=True))\n",
        "        dW2 = np.dot(self.A1.T, np.dot(np.dot(error, self.W4.T) * sigmoid(self.A3, derivative=True), self.W3.T) * sigmoid(self.A2, derivative=True))\n",
        "        dW1 = np.dot(inputs.T, np.dot(np.dot(np.dot(error, self.W4.T) * sigmoid(self.A3, derivative=True), self.W3.T) * sigmoid(self.A2, derivative=True), self.W2.T) * sigmoid(self.A1, derivative=True))\n",
        "\n",
        "        # Update weights\n",
        "        self.W4 -= self.lr * dW4\n",
        "        self.W3 -= self.lr * dW3\n",
        "        self.W2 -= self.lr * dW2\n",
        "        self.W1 -= self.lr * dW1\n",
        "\n",
        "    def train(self, inputs, targets, epochs):\n",
        "        loss_history = []\n",
        "        for epoch in range(epochs):\n",
        "            predictions = self.forward(inputs)\n",
        "            self.backward(inputs, targets, predictions)\n",
        "\n",
        "\n",
        "            loss = -np.mean(np.sum(targets * np.log(predictions + 1e-9), axis=1))\n",
        "            loss_history.append(loss)\n",
        "\n",
        "            if epoch % 500 == 0:\n",
        "                print(f\"Epoch {epoch}/{epochs} - Loss: {loss:.4f}\")\n",
        "\n",
        "        return loss_history"
      ],
      "metadata": {
        "id": "fLctS15bJLXi"
      },
      "execution_count": 16,
      "outputs": []
    },
    {
      "cell_type": "code",
      "source": [
        "model = SimpleNN()\n",
        "num_epochs = 8000\n",
        "losses = model.train(X_train, Y_train_encoded, num_epochs)"
      ],
      "metadata": {
        "colab": {
          "base_uri": "https://localhost:8080/"
        },
        "id": "UBMm6QGCJa_I",
        "outputId": "92738bc6-e7ac-4fc7-fb48-4d4dfa0de867"
      },
      "execution_count": 18,
      "outputs": [
        {
          "output_type": "stream",
          "name": "stdout",
          "text": [
            "Epoch 0/8000 - Loss: 1.6092\n",
            "Epoch 500/8000 - Loss: 1.6088\n",
            "Epoch 1000/8000 - Loss: 1.6073\n",
            "Epoch 1500/8000 - Loss: 0.1982\n",
            "Epoch 2000/8000 - Loss: 0.0232\n",
            "Epoch 2500/8000 - Loss: 0.0083\n",
            "Epoch 3000/8000 - Loss: 0.0028\n",
            "Epoch 3500/8000 - Loss: 0.0016\n",
            "Epoch 4000/8000 - Loss: 0.0011\n",
            "Epoch 4500/8000 - Loss: 0.0009\n",
            "Epoch 5000/8000 - Loss: 0.0007\n",
            "Epoch 5500/8000 - Loss: 0.0006\n",
            "Epoch 6000/8000 - Loss: 0.0005\n",
            "Epoch 6500/8000 - Loss: 0.0004\n",
            "Epoch 7000/8000 - Loss: 0.0004\n",
            "Epoch 7500/8000 - Loss: 0.0003\n"
          ]
        }
      ]
    },
    {
      "cell_type": "code",
      "source": [
        "plt.figure(figsize=(10, 5))\n",
        "plt.plot(losses, label=\"Loss\")\n",
        "plt.title(\"Loss Curve\")\n",
        "plt.xlabel(\"Epochs\")\n",
        "plt.ylabel(\"Loss\")\n",
        "plt.legend()\n",
        "plt.show()"
      ],
      "metadata": {
        "colab": {
          "base_uri": "https://localhost:8080/",
          "height": 487
        },
        "id": "E-BKwud2Juhn",
        "outputId": "4df27ed1-4886-448e-c766-661b8ac28f1b"
      },
      "execution_count": 19,
      "outputs": [
        {
          "output_type": "display_data",
          "data": {
            "text/plain": [
              "<Figure size 1000x500 with 1 Axes>"
            ],
            "image/png": "[encoded data removed]"
          },
          "metadata": {}
        }
      ]
    },
    {
      "cell_type": "code",
      "source": [
        "test_predictions = np.argmax(model.forward(X_test), axis=1)\n",
        "accuracy = np.mean(test_predictions == Y_test)\n",
        "print(f\"Accuracy on test data: {accuracy * 100:.2f}%\")\n"
      ],
      "metadata": {
        "colab": {
          "base_uri": "https://localhost:8080/"
        },
        "id": "Jo4oYWpZJ3Lc",
        "outputId": "ab8e14db-7c3b-4b0e-9022-48e2bcabc4d1"
      },
      "execution_count": 20,
      "outputs": [
        {
          "output_type": "stream",
          "name": "stdout",
          "text": [
            "Accuracy on test data: 75.00%\n"
          ]
        }
      ]
    },
    {
      "cell_type": "code",
      "source": [
        "cm = confusion_matrix(Y_test, test_predictions)\n",
        "disp = ConfusionMatrixDisplay(confusion_matrix=cm, display_labels=[0, 1, 2, 3, 4])\n",
        "disp.plot(cmap=\"Blues\")\n",
        "plt.title(\"Confusion Matrix\")\n",
        "plt.show()"
      ],
      "metadata": {
        "colab": {
          "base_uri": "https://localhost:8080/",
          "height": 472
        },
        "id": "-wOE6rhuJ9OE",
        "outputId": "c584dd5c-f4e1-44f5-bfad-a18059f8fd9b"
      },
      "execution_count": 21,
      "outputs": [
        {
          "output_type": "display_data",
          "data": {
            "text/plain": [
              "<Figure size 640x480 with 2 Axes>"
            ],
            "image/png": "[encoded data removed]"
          },
          "metadata": {}
        }
      ]
    },
    {
      "cell_type": "code",
      "source": [
        "print(\"Sample Predictions:\")\n",
        "for i in range(3):  # Show fewer samples\n",
        "    prob = model.forward([X_test[i]])[0]\n",
        "    print(f\"Input: {X_test[i]}, Predicted Class: {np.argmax(prob)}, Actual: {Y_test[i]}\")"
      ],
      "metadata": {
        "colab": {
          "base_uri": "https://localhost:8080/"
        },
        "id": "XX-IpHTRKBjM",
        "outputId": "c3128ef3-603d-4b0b-fb40-31b9b452e164"
      },
      "execution_count": 22,
      "outputs": [
        {
          "output_type": "stream",
          "name": "stdout",
          "text": [
            "Sample Predictions:\n",
            "Input: [ 3.80805504  1.36245102 -4.52283442 -5.00085216 -1.65893739  1.59301355\n",
            "  4.90738489 -0.59708672 -1.08238648  3.64237915  6.22804869  0.75552109\n",
            "  0.44826054  4.49081192 -1.16131545 -1.06811348  5.54372664  2.09977014\n",
            "  0.18877711  1.43902859 -4.06855674  0.26439305 -3.21353811  2.00208473\n",
            " -2.51589309], Predicted Class: 0, Actual: 0\n",
            "Input: [ 2.40622537  2.42922723 -3.32331478 -0.25751426 -0.73224793  0.8057142\n",
            "  1.82726988  0.43933672 -4.42344073 -4.1382828   1.91127462  2.94920094\n",
            " -0.79035746  1.00528286  0.03851933  0.20910373  1.92392351 -0.62444005\n",
            " -2.68240863  1.78585157 -5.03291441  2.40680965 -0.74331362 -0.50014949\n",
            "  0.11373984], Predicted Class: 2, Actual: 2\n",
            "Input: [-1.33397974 -0.76598435 -0.07585414  1.29523835  7.1657965   1.0554436\n",
            " -2.92042227 -0.70253227  9.16643647  2.21928976 -0.11921405  2.94182444\n",
            "  1.84736977  0.62082948  4.21481833  1.54366742  1.63183991 -0.53405266\n",
            "  2.12805583  2.23494937  0.38884604 -2.25205617 -4.21826607 -0.28742\n",
            "  1.61586443], Predicted Class: 4, Actual: 4\n"
          ]
        }
      ]
    },
    {
      "cell_type": "code",
      "source": [],
      "metadata": {
        "id": "SZpI85N3KHT6"
      },
      "execution_count": null,
      "outputs": []
    }
  ]
}